{
 "cells": [
  {
   "cell_type": "code",
   "execution_count": 25,
   "metadata": {},
   "outputs": [],
   "source": [
    "#import modules\n",
    "import os, re\n",
    "import numpy as np\n",
    "import pandas as pd\n",
    "import matplotlib.pyplot as plt\n",
    "\n",
    "import colicycle.time_mat_operations as tmo\n",
    "from colicycle.MoMAobj import Momaobj\n",
    "import colicycle.tools_GW as tgw"
   ]
  },
  {
   "cell_type": "code",
   "execution_count": 26,
   "metadata": {},
   "outputs": [],
   "source": [
    "folder_prefix = '../PreProcessed/'"
   ]
  },
  {
   "cell_type": "code",
   "execution_count": 27,
   "metadata": {},
   "outputs": [],
   "source": [
    "experiment_info = [\n",
    "    {'data_folder':folder_prefix+'20180709_GW296_glucose8aa37_1_MMStack/',\n",
    "     'time_scale': 3, 'switches_h':[], 'switches':[]},\n",
    "    {'data_folder':folder_prefix+'20180711_GW296_glucose37_1_MMStack/',\n",
    "     'time_scale': 3, 'switches_h':[],'switches':[]},\n",
    "    {'data_folder':folder_prefix+'20180706_GW296_glycerol37_1_MMStack/',\n",
    "     'time_scale': 3, 'switches_h':[],'switches':[]},\n",
    "    {'data_folder':folder_prefix+'20170327_GW339_temp/',\n",
    "     'time_scale': 3, 'switches_h':[2,17.10,40.08],'switches':[]}\n",
    "]\n",
    "\n",
    "tosave_folder = folder_prefix\n"
   ]
  },
  {
   "cell_type": "code",
   "execution_count": 28,
   "metadata": {},
   "outputs": [],
   "source": [
    "#the 20170327_GW339_temp experiment contains additional data where temperature was changed.\n",
    "#We calculate the switch times in frame units to keep only the firs part\n",
    "for x in experiment_info:\n",
    "    if len(x['switches_h'])>0:\n",
    "        x['switches'] = np.round((np.floor(x['switches_h'])*60+100*(x['switches_h']-np.floor(x['switches_h'])))/x['time_scale']).astype(int)\n"
   ]
  },
  {
   "cell_type": "code",
   "execution_count": 30,
   "metadata": {},
   "outputs": [],
   "source": [
    "for data_ind in range(len(experiment_info)):\n",
    "    \n",
    "    expinfo = experiment_info[data_ind]\n",
    "    dataset = experiment_info[data_ind]['data_folder']\n",
    "    \n",
    "    current_name = dataset.split('/')[np.argwhere([re.findall('^[0-9]{8,9}', x) for x in dataset.split('/')])[0][0]]\n",
    "\n",
    "    exports = [f for f in os.listdir(tosave_folder+current_name+'/step2') if re.search('(?<=time_mat_pos).*(\\d+)_GL(\\d+).pkl', f)]\n",
    "    \n",
    "    #go through each growht lane and calcualte initiation parameters\n",
    "    for x in exports:\n",
    "        time_mat_pd = pd.read_pickle(tosave_folder+current_name+'/step2/'+x)\n",
    "\n",
    "        datapos = re.findall('(?<=time_mat_pos).*(\\d+)_GL(\\d+).pkl',x)[0]\n",
    "\n",
    "        #recover length at initiation\n",
    "        time_mat_pd['Li'] = np.nan\n",
    "        time_mat_pd['Li_fit'] = np.nan\n",
    "\n",
    "        for ind in time_mat_pd.index:\n",
    "            if not np.isnan(time_mat_pd.at[ind,'Ti']):\n",
    "                if time_mat_pd.at[ind,'Ti']>=0:\n",
    "                    time_mat_pd.at[ind,'Li'] = time_mat_pd.at[ind,'length'][int(time_mat_pd.at[ind,'Ti'])]\n",
    "\n",
    "                    time_mat_pd.at[ind,'Li_fit'] = tgw.fun_expgrowht2(time_mat_pd.at[ind,'Ti'],\n",
    "                                                                      time_mat_pd.at[ind,'Lb_fit'],time_mat_pd.at[ind,'tau_fit'])\n",
    "\n",
    "                else:\n",
    "                    mother_index = time_mat_pd.at[ind,'mother_id']\n",
    "                    real_time = len(time_mat_pd.at[mother_index,'length'])+int(time_mat_pd.at[ind,'Ti'])\n",
    "                    time_mat_pd.at[ind,'Li'] = time_mat_pd.at[mother_index,'length'][int(time_mat_pd.at[ind,'Ti'])]/2\n",
    "\n",
    "                    time_mat_pd.at[ind,'Li_fit'] = tgw.fun_expgrowht2(real_time,time_mat_pd.at[mother_index,'Lb_fit'],\n",
    "                                                                      time_mat_pd.at[mother_index,'tau_fit'])/2\n",
    "\n",
    "\n",
    "        filename = tosave_folder+current_name+'/step3/initlen_time_mat'+'_pos'+datapos[0]+'_GL'+datapos[1]+'.pkl'\n",
    "        os.makedirs(os.path.dirname(filename), exist_ok=True)\n",
    "        time_mat_pd.to_pickle(filename)\n",
    "        \n",
    "    #recover all exports\n",
    "    exports = [f for f in os.listdir(tosave_folder+current_name+'/step3') if re.search('(?<=initlen_time_mat_pos).*(\\d+)_GL(\\d+).pkl', f)]\n",
    "    mats = []\n",
    "    for x in exports:\n",
    "        mats.append(pd.read_pickle(tosave_folder+current_name+'/step3/'+x)[['length','born','tau_fit','mother_id','Lb','Lb_fit','Ld_fit','Ld','Li','Li_fit','Ti','Td','full_cellcycle','pearson_log']])\n",
    "\n",
    "    #combine all exports and measure initiation adder\n",
    "    cumcells = np.cumsum([0]+[len(x) for x in mats])\n",
    "    for ind, m in enumerate(mats):\n",
    "        for x in m.index:\n",
    "            if m.at[x,'mother_id']>0:\n",
    "                m.at[x,'DLi'] = m.at[x,'Li_fit']-0.5*m.at[m.at[x,'mother_id'],'Li_fit']\n",
    "                m.at[x,'Li_old'] = 0.5*m.at[m.at[x,'mother_id'],'Li_fit']\n",
    "\n",
    "        m.mother_id = m.mother_id.apply(lambda x: x+cumcells[ind] if x>0 else x)\n",
    "    colidata = pd.concat(mats)\n",
    "    colidata['period'] = 0\n",
    "    \n",
    "    colidata.period.astype('category')\n",
    "    for x in range(len(expinfo['switches'])):\n",
    "        colidata.loc[colidata.born > expinfo['switches'][x],'period'] = x+1\n",
    "\n",
    "    colidata[['born','tau_fit','Ti','Td']]=colidata[['born','tau_fit','Ti','Td']].applymap(lambda x: x*expinfo['time_scale'])\n",
    "\n",
    "    \n",
    "    #re-index dataframe and keep complete cell cylces only\n",
    "    colidata.index = np.arange(len(colidata))\n",
    "    colidata = colidata[colidata.full_cellcycle]\n",
    "    \n",
    "    colidata.to_pickle(tosave_folder+current_name+'/colidata.pkl')\n",
    "    "
   ]
  },
  {
   "cell_type": "code",
   "execution_count": 20,
   "metadata": {},
   "outputs": [],
   "source": [
    "time_mat_pd = pd.read_pickle(tosave_folder+'20180711_GW296_glucose37_1_MMStack/'+'/step2/'+'manual_time_mat_pos0_GL06.pkl')\n"
   ]
  },
  {
   "cell_type": "code",
   "execution_count": 18,
   "metadata": {},
   "outputs": [],
   "source": [
    "time_mat_pd = pd.read_pickle('/Users/gw18g940/GoogleDrive/PostDocBasel/ColiPublication_GDrive/DoubleAdderCode/Data/20180709_GW296_glucose8aa37_1_MMStack/processed/step1_time_mat_pos0_GL01.pkl')\n"
   ]
  },
  {
   "cell_type": "code",
   "execution_count": null,
   "metadata": {},
   "outputs": [],
   "source": []
  }
 ],
 "metadata": {
  "kernelspec": {
   "display_name": "Python 3",
   "language": "python",
   "name": "python3"
  },
  "language_info": {
   "codemirror_mode": {
    "name": "ipython",
    "version": 3
   },
   "file_extension": ".py",
   "mimetype": "text/x-python",
   "name": "python",
   "nbconvert_exporter": "python",
   "pygments_lexer": "ipython3",
   "version": "3.7.3"
  }
 },
 "nbformat": 4,
 "nbformat_minor": 4
}
