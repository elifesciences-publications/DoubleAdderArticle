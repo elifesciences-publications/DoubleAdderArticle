{
 "cells": [
  {
   "cell_type": "markdown",
   "metadata": {},
   "source": [
    "# 1. Preprocessing: translating MoMA files to Pandas"
   ]
  },
  {
   "cell_type": "code",
   "execution_count": 1,
   "metadata": {},
   "outputs": [],
   "source": [
    "import os, re, glob\n",
    "import numpy as np\n",
    "import pandas as pd\n",
    "from colicycle.MoMAobj import Momaobj\n",
    "import colicycle.time_mat_operations as tmo\n",
    "import colicycle.momaprocess as mp"
   ]
  },
  {
   "cell_type": "code",
   "execution_count": 23,
   "metadata": {},
   "outputs": [],
   "source": [
    "folder_prefix = '../PreProcessed/'"
   ]
  },
  {
   "cell_type": "code",
   "execution_count": 24,
   "metadata": {},
   "outputs": [],
   "source": [
    "#say where data are located and how many channelss are present in each experiment\n",
    "data_folder = [[folder_prefix+'20180709_GW296_glucose8aa37_1_MMStack/',2],\n",
    "            [folder_prefix+'20180711_GW296_glucose37_1_MMStack/',2],\n",
    "              [folder_prefix+'20180706_GW296_glycerol37_1_MMStack/',2],\n",
    "               [folder_prefix+'20170327_GW339_temp/',3]\n",
    "           ]\n",
    "\n",
    "tosave_folder = folder_prefix\n"
   ]
  },
  {
   "cell_type": "code",
   "execution_count": 25,
   "metadata": {},
   "outputs": [],
   "source": [
    "name = [os.path.basename(os.path.normpath(d[0])) for d in data_folder]"
   ]
  },
  {
   "cell_type": "code",
   "execution_count": 26,
   "metadata": {},
   "outputs": [
    {
     "name": "stderr",
     "output_type": "stream",
     "text": [
      "/Users/gw18g940/miniconda3/envs/doubleadder/lib/python3.7/site-packages/scipy/optimize/minpack.py:795: OptimizeWarning: Covariance of the parameters could not be estimated\n",
      "  category=OptimizeWarning)\n",
      "/Users/gw18g940/miniconda3/envs/doubleadder/lib/python3.7/site-packages/ipykernel_launcher.py:20: SettingWithCopyWarning: \n",
      "A value is trying to be set on a copy of a slice from a DataFrame.\n",
      "Try using .loc[row_indexer,col_indexer] = value instead\n",
      "\n",
      "See the caveats in the documentation: http://pandas.pydata.org/pandas-docs/stable/user_guide/indexing.html#returning-a-view-versus-a-copy\n",
      "/Users/gw18g940/miniconda3/envs/doubleadder/lib/python3.7/site-packages/scipy/stats/stats.py:3399: PearsonRConstantInputWarning: An input array is constant; the correlation coefficent is not defined.\n",
      "  warnings.warn(PearsonRConstantInputWarning())\n",
      "/Users/gw18g940/GoogleDrive/PostDocBasel/ColiPublication_GDrive/DoubleAdderCode/colicycle/colicycle/tools_GW.py:10: RuntimeWarning: overflow encountered in power\n",
      "  return L0 * 2**(x/T)\n"
     ]
    }
   ],
   "source": [
    "for ind, dataset in enumerate(data_folder):\n",
    "    mom = Momaobj(data_folder=dataset[0],col_nb=dataset[1], no_raw=True)\n",
    "    \n",
    "    for i in range(len(mom.pos_list)):\n",
    "        mom.pos = mom.pos_list[i]\n",
    "        mom.gl = mom.gl_list[i]\n",
    "\n",
    "        time_mat_pd = mp.parse_exported(mom.get_momapath())\n",
    "        time_mat_pd['length'] = time_mat_pd.pixlim.apply(lambda x: x[:,1]-x[:,0])\n",
    "        time_mat_pd = tmo.essential_props(time_mat_pd)\n",
    "        #time_mat_pd = mp.moma_cleanup(time_mat_pd)\n",
    "\n",
    "        time_mat_pd = pd.concat([time_mat_pd, time_mat_pd.apply(lambda row: tmo.exponential_fit(row), axis=1)], axis=1)\n",
    "\n",
    "        time_mat_pd['pix_max']=time_mat_pd.pixlim.apply(lambda x: x[:,1])\n",
    "        time_mat_pd['pix_min']=time_mat_pd.pixlim.apply(lambda x: x[:,0])\n",
    "\n",
    "        time_mat_pd['full_cellcycle'] = time_mat_pd.exit_type.apply(lambda x: True if x=='DIVISION' else False)\n",
    "        time_mat_pd['full_cellcycle'] = time_mat_pd.exit_type.apply(lambda x: True if x=='DIVISION' else False)\n",
    "        time_mat_pd[time_mat_pd.born == -1]['full_cellcycle'] = False\n",
    "\n",
    "        time_mat_pd['mother_id'] = time_mat_pd['mother_id'].fillna(-1).astype(int)\n",
    "\n",
    "        filename = tosave_folder+'/'+name[ind]+'/step1/step1_time_mat'+'_pos'+mom.pos+'_GL'+mom.gl+'.pkl'\n",
    "        os.makedirs(os.path.dirname(filename), exist_ok=True)\n",
    "\n",
    "        time_mat_pd['Ti'] = np.nan\n",
    "        time_mat_pd['Li'] = np.nan\n",
    "        time_mat_pd['Li_fit'] = np.nan\n",
    "\n",
    "        time_mat_pd.to_pickle(filename)"
   ]
  }
 ],
 "metadata": {
  "kernelspec": {
   "display_name": "Python 3",
   "language": "python",
   "name": "python3"
  },
  "language_info": {
   "codemirror_mode": {
    "name": "ipython",
    "version": 3
   },
   "file_extension": ".py",
   "mimetype": "text/x-python",
   "name": "python",
   "nbconvert_exporter": "python",
   "pygments_lexer": "ipython3",
   "version": "3.7.3"
  }
 },
 "nbformat": 4,
 "nbformat_minor": 4
}
