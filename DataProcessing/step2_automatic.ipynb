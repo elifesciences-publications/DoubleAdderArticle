{
 "cells": [
  {
   "cell_type": "markdown",
   "metadata": {},
   "source": [
    "## 2. Preprocessing: automated spot detection"
   ]
  },
  {
   "cell_type": "markdown",
   "metadata": {},
   "source": [
    "In this step, spots are automatically detected and tracked for one of the experiments."
   ]
  },
  {
   "cell_type": "code",
   "execution_count": 1,
   "metadata": {},
   "outputs": [],
   "source": [
    "import os, re, glob\n",
    "import numpy as np\n",
    "import matplotlib.pyplot as plt\n",
    "import pandas as pd\n",
    "from colicycle.MoMAobj import Momaobj\n",
    "import colicycle.time_mat_operations as tmo\n",
    "import colicycle.momaprocess as mp\n",
    "import colicycle.spot_detection as sp"
   ]
  },
  {
   "cell_type": "code",
   "execution_count": 2,
   "metadata": {},
   "outputs": [],
   "source": [
    "folder_prefix = '../PreProcessed/'"
   ]
  },
  {
   "cell_type": "code",
   "execution_count": 3,
   "metadata": {},
   "outputs": [],
   "source": [
    "data_folder = folder_prefix+'20170327_GW339_temp/'\n",
    "tosave_folder = data_folder+'step2/'"
   ]
  },
  {
   "cell_type": "code",
   "execution_count": 4,
   "metadata": {},
   "outputs": [],
   "source": [
    "#load lane information \n",
    "mom = Momaobj(data_folder=data_folder,col_nb=2, no_raw=True)\n",
    "#recover experiment name\n",
    "current_name = data_folder.split('/')[np.argwhere([re.findall('^[0-9]{8,9}', x) for x in data_folder.split('/')])[0][0]]"
   ]
  },
  {
   "cell_type": "code",
   "execution_count": 7,
   "metadata": {},
   "outputs": [
    {
     "name": "stdout",
     "output_type": "stream",
     "text": [
      "Frame 36: 4 trajectories present.\n"
     ]
    }
   ],
   "source": [
    "for i in range(len(mom.pos_list)):\n",
    "    print(i)\n",
    "    mom.pos = mom.pos_list[i]\n",
    "    mom.gl = mom.gl_list[i]\n",
    "    \n",
    "    filename = data_folder+'/step1/step1_time_mat'+'_pos'+mom.pos+'_GL'+mom.gl+'.pkl'\n",
    "    time_mat_pd = pd.read_pickle(filename)\n",
    "    time_mat_pd.loc[time_mat_pd.born ==-1,'born'] = 0\n",
    "    \n",
    "    #find spots\n",
    "    time_mat_pd = tmo.find_spots(time_mat_pd=time_mat_pd,sigmaXY=1.5,mom=mom)\n",
    "    \n",
    "    #keep only spots with good cross-correlation score\n",
    "    time_mat_pd['spots'] = time_mat_pd.spots.apply(lambda x: x[x[:,9]>0.6,:] if len(x)>0 else [])\n",
    "    \n",
    "    #track spots and define oriC splitting\n",
    "    time_mat_pd = tmo.track_spots(time_mat_pd)\n",
    "    \n",
    "    #calculate Li_fit\n",
    "    #time_mat_pd['Li_fit'] = time_mat_pd.apply(lambda row: tmo.length_fit_at_T(row, 'Ti'),axis = 1)\n",
    "    \n",
    "    #save file with spot information\n",
    "    filename = data_folder+'/step2/automatic_time_mat'+'_pos'+mom.pos+'_GL'+mom.gl+'.pkl'\n",
    "    os.makedirs(os.path.dirname(filename), exist_ok=True)\n",
    "    time_mat_pd.to_pickle(filename)"
   ]
  },
  {
   "cell_type": "code",
   "execution_count": null,
   "metadata": {},
   "outputs": [],
   "source": []
  }
 ],
 "metadata": {
  "kernelspec": {
   "display_name": "Python 3",
   "language": "python",
   "name": "python3"
  },
  "language_info": {
   "codemirror_mode": {
    "name": "ipython",
    "version": 3
   },
   "file_extension": ".py",
   "mimetype": "text/x-python",
   "name": "python",
   "nbconvert_exporter": "python",
   "pygments_lexer": "ipython3",
   "version": "3.7.3"
  }
 },
 "nbformat": 4,
 "nbformat_minor": 4
}
