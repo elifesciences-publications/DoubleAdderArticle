{
 "cells": [
  {
   "cell_type": "markdown",
   "metadata": {},
   "source": [
    "# Gather data for figure 1,2,3"
   ]
  },
  {
   "cell_type": "markdown",
   "metadata": {},
   "source": [
    "## Import packages"
   ]
  },
  {
   "cell_type": "code",
   "execution_count": 1,
   "metadata": {},
   "outputs": [],
   "source": [
    "import os, re\n",
    "import numpy as np\n",
    "import pandas as pd\n",
    "import matplotlib.pyplot as plt\n",
    "import plotnine as pn\n",
    "\n",
    "import colicycle.time_mat_operations as tmo\n",
    "from colicycle.MoMAobj import Momaobj\n",
    "import colicycle.tools_GW as tgw\n",
    "\n",
    "import scipy.optimize\n",
    "import scipy.stats"
   ]
  },
  {
   "cell_type": "markdown",
   "metadata": {},
   "source": [
    "## Define experimental parameters"
   ]
  },
  {
   "cell_type": "code",
   "execution_count": 2,
   "metadata": {},
   "outputs": [],
   "source": [
    "#reference folder containing the folder PreProcessed\n",
    "folder_prefix = '../'\n",
    "\n",
    "#define a dictionary with conversion factors\n",
    "expinfo = {}\n",
    "expinfo['time_scale'] = 3#in min\n",
    "expinfo['size_scale'] = 0.065\n",
    "\n",
    "#define a list of folders containinig data\n",
    "data_folders = [folder_prefix+'PreProcessed/20180706_GW296_glycerol37_1_MMStack/',\n",
    "                folder_prefix+'PreProcessed/20180711_GW296_glucose37_1_MMStack/',\n",
    "                folder_prefix+'PreProcessed/20180709_GW296_glucose8aa37_1_MMStack/',\n",
    "                ]"
   ]
  },
  {
   "cell_type": "markdown",
   "metadata": {},
   "source": [
    "## Load data, remove bad growth curves and complete cell cycle parameters"
   ]
  },
  {
   "cell_type": "code",
   "execution_count": 5,
   "metadata": {},
   "outputs": [],
   "source": [
    "#load data and transform lengths in microns\n",
    "colidata = [pd.read_pickle(x+'colidata.pkl') for x in data_folders]\n",
    "for i in range(0,len(data_folders)):\n",
    "    colidata[i]['mLb_fit'] = colidata[i].apply(lambda row: tmo.mother_var(row, colidata[i], 'Lb_fit'), axis = 1)\n",
    "    colidata[i] = colidata[i][colidata[i].pearson_log>0.95]\n",
    "    colidata[i]['condition'] = i\n",
    "    colidata[i][['DLi','Lb_fit','Ld_fit','Ld','Lb','Ld','Li','Li_fit','Li_old']] \\\n",
    "=colidata[i][['DLi','Lb_fit','Ld_fit','Ld','Lb','Ld','Li','Li_fit','Li_old']].applymap(lambda x: x*expinfo['size_scale'])\n",
    "    colidata[i]['DeltaL'] = colidata[i]['Ld_fit']-colidata[i]['Lb_fit']\n",
    "    colidata[i]['DLdLi'] = colidata[i]['Ld_fit']-colidata[i]['Li_fit']\n",
    "    colidata[i]['Tdi'] = colidata[i]['Td']-colidata[i]['Ti']\n",
    "    \n",
    "#combine datasets and remove bad fits\n",
    "colidata_plot = pd.concat(colidata)\n",
    "expinfo_pd = pd.Series(expinfo)"
   ]
  },
  {
   "cell_type": "markdown",
   "metadata": {},
   "source": [
    "## Keep only variables relevant for plotting"
   ]
  },
  {
   "cell_type": "code",
   "execution_count": 7,
   "metadata": {},
   "outputs": [],
   "source": [
    "colidata_export = colidata_plot[['Lb_fit','DeltaL','Li_fit','Li_old','DLi','tau_fit',\n",
    "                                 'Tdi','DLdLi','mLb_fit','condition']].copy()\n"
   ]
  },
  {
   "cell_type": "markdown",
   "metadata": {},
   "source": [
    "## Change condition name from numerics to text"
   ]
  },
  {
   "cell_type": "code",
   "execution_count": 8,
   "metadata": {},
   "outputs": [],
   "source": [
    "def change_name(x):\n",
    "    if x == 0:\n",
    "        newname = 'glycerol'\n",
    "    elif x==1:\n",
    "        newname = 'glucose'\n",
    "    elif x==2:\n",
    "        newname = 'glucose8a'\n",
    "    return newname"
   ]
  },
  {
   "cell_type": "code",
   "execution_count": 9,
   "metadata": {},
   "outputs": [],
   "source": [
    "colidata_export['condition'] = colidata_export.condition.apply(lambda x: change_name(x))"
   ]
  },
  {
   "cell_type": "markdown",
   "metadata": {},
   "source": [
    "## Export data"
   ]
  },
  {
   "cell_type": "code",
   "execution_count": 10,
   "metadata": {},
   "outputs": [],
   "source": [
    "colidata_export = colidata_export.rename(columns = {'Lb_fit': 'Lb', 'DeltaL':'dL','Li_fit':'Li','Li_old':'Li_prev',\n",
    "                        'DLi':'dLambda_if','tau_fit':'lambda_inv','Tdi':'Tid','DLdLi':'dLambda_ib','mLb_fit':'Lb_mother'\n",
    "                        })\n",
    "colidata_export.to_csv(folder_prefix+'Data_export/Fig1_2_3.csv', index = False)\n",
    "\n"
   ]
  },
  {
   "cell_type": "code",
   "execution_count": null,
   "metadata": {},
   "outputs": [],
   "source": []
  }
 ],
 "metadata": {
  "kernelspec": {
   "display_name": "Python 3",
   "language": "python",
   "name": "python3"
  },
  "language_info": {
   "codemirror_mode": {
    "name": "ipython",
    "version": 3
   },
   "file_extension": ".py",
   "mimetype": "text/x-python",
   "name": "python",
   "nbconvert_exporter": "python",
   "pygments_lexer": "ipython3",
   "version": "3.7.3"
  }
 },
 "nbformat": 4,
 "nbformat_minor": 4
}
