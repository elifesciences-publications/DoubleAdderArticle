{
 "cells": [
  {
   "cell_type": "markdown",
   "metadata": {},
   "source": [
    "# Gather data for figure 5"
   ]
  },
  {
   "cell_type": "markdown",
   "metadata": {},
   "source": [
    "## Import packages"
   ]
  },
  {
   "cell_type": "code",
   "execution_count": 1,
   "metadata": {},
   "outputs": [],
   "source": [
    "import os, re\n",
    "import numpy as np\n",
    "import pandas as pd\n",
    "import matplotlib.pyplot as plt\n",
    "import plotnine as pn\n",
    "\n",
    "from collections import OrderedDict\n",
    "\n",
    "import scipy.optimize\n",
    "import scipy.stats"
   ]
  },
  {
   "cell_type": "markdown",
   "metadata": {},
   "source": [
    "## Define experimental parameters"
   ]
  },
  {
   "cell_type": "code",
   "execution_count": 2,
   "metadata": {},
   "outputs": [],
   "source": [
    "#Define prefix for folder containing the folder PreProcessed\n",
    "folder_prefix = '../'\n",
    "\n",
    "#types of simulations to consider\n",
    "simulation_types = ['standard']\n",
    "\n",
    "#create list of dictionaries with information regarding each condition\n",
    "datasource = OrderedDict()\n",
    "\n",
    "datasource['glycerolauto'] =  {'datafile': folder_prefix+'PreProcessed/20170327_GW339_temp/colidata.pkl',\n",
    "                          'period': 1, 'condition' : 'Glycerol'}\n",
    "datasource['glucose'] = {'datafile': folder_prefix+'PreProcessed/20180711_GW296_glucose37_1_MMStack/colidata.pkl',\n",
    "                          'period': 0, 'condition' : 'Glucose'}\n",
    "datasource['glucose8aa'] = {'datafile': folder_prefix+'PreProcessed/20180709_GW296_glucose8aa37_1_MMStack/colidata.pkl',\n",
    "                          'period': 0, 'condition' : 'Glucose +AA'}\n",
    "simulation_source = folder_prefix+'DataSimulations/'\n",
    "\n",
    "#define dictionary with scaling factors\n",
    "expinfo = {}\n",
    "expinfo['size_scale'] = 0.065#nm/px\n",
    "expinfo['time_scale'] = 3#in min\n",
    "\n",
    "#Define conversion between numerics and real condition/data types names\n",
    "plot_names = {0:'Glycerol',1:'Glucose',2:'Glucose +AA'}\n",
    "type_names = {0:'Experiments',1: 'Simulations'}"
   ]
  },
  {
   "cell_type": "markdown",
   "metadata": {},
   "source": [
    "## Load experimental data, clean up and add cell cycle variables"
   ]
  },
  {
   "cell_type": "code",
   "execution_count": 3,
   "metadata": {},
   "outputs": [],
   "source": [
    "colidata = [pd.read_pickle(datasource[x]['datafile']) for x in datasource]\n",
    "for i in range(0,len(datasource)):\n",
    "    colidata[i] = colidata[i][colidata[i].pearson_log>0.95]\n",
    "    \n",
    "    colidata[i] = colidata[i][colidata[i].period == datasource[list(datasource.keys())[i]]['period']]\n",
    "    \n",
    "    colidata[i]['condition'] = i\n",
    "    colidata[i]['datatype'] = 0\n",
    "    colidata[i]['simul_type'] = -1\n",
    "    colidata[i][['DLi','Lb_fit','Ld_fit','Ld','Lb','Ld','Li','Li_fit','Li_old']] \\\n",
    "=colidata[i][['DLi','Lb_fit','Ld_fit','Ld','Lb','Ld','Li','Li_fit','Li_old']].applymap(lambda x: x*expinfo['size_scale'])\n",
    "    colidata[i]['DeltaL'] = colidata[i]['Ld_fit']-colidata[i]['Lb_fit']\n",
    "\n",
    "colidata_plot = pd.concat(colidata)"
   ]
  },
  {
   "cell_type": "markdown",
   "metadata": {},
   "source": [
    "## Load simulation data, clean up and add cell cycle variables"
   ]
  },
  {
   "cell_type": "code",
   "execution_count": 4,
   "metadata": {},
   "outputs": [
    {
     "name": "stdout",
     "output_type": "stream",
     "text": [
      "../DataSimulations/glycerolauto_standard.pkl\n",
      "../DataSimulations/glucose_standard.pkl\n",
      "../DataSimulations/glucose8aa_standard.pkl\n"
     ]
    }
   ],
   "source": [
    "colidata_simul = []\n",
    "for ind0,i in enumerate(simulation_types):\n",
    "    for ind,j in enumerate(datasource):\n",
    "        print(simulation_source+j+'_'+i+'.pkl')\n",
    "        coli_temp = pd.read_pickle(simulation_source+j+'_'+i+'.pkl')\n",
    "        coli_temp['Li_old'] = coli_temp['mLi_fit']\n",
    "        coli_temp['datatype'] = ind0+1\n",
    "        coli_temp['condition'] = ind\n",
    "        coli_temp['simul_type'] = ind0\n",
    "        \n",
    "        coli_temp['DeltaL'] = coli_temp['Ld_fit']-coli_temp['Lb_fit']\n",
    "        \n",
    "        colidata_simul.append(coli_temp)\n",
    "colisimul_plot = pd.concat(colidata_simul)\n"
   ]
  },
  {
   "cell_type": "markdown",
   "metadata": {},
   "source": [
    "## Binned average"
   ]
  },
  {
   "cell_type": "markdown",
   "metadata": {},
   "source": [
    "Calculate binned averages with respect to birth length and remove small bins"
   ]
  },
  {
   "cell_type": "code",
   "execution_count": 5,
   "metadata": {},
   "outputs": [],
   "source": [
    "coli=[]\n",
    "for x in colidata_plot.condition.unique():\n",
    "    #colidata_plot_stat= colidata_plot.copy()\n",
    "    bin_np, bin_pos = np.histogram(colidata_plot[colidata_plot.condition==x].Lb_fit,bins = np.arange(0,10,0.1))\n",
    "    minpos = bin_pos[np.where(bin_np>15)[0][0]]\n",
    "    maxpos = bin_pos[np.where(bin_np>15)[0][-1]]\n",
    "    coli.append(colidata_plot[(colidata_plot.condition==x)&(colidata_plot.Lb_fit>minpos)\n",
    "                                  &(colidata_plot.Lb_fit<maxpos)])\n",
    "    \n",
    "colidata_plot_stats = pd.concat(coli)\n",
    "\n",
    "coli=[]\n",
    "for x in colisimul_plot.condition.unique():\n",
    "    #colidata_plot_stat= colidata_plot.copy()\n",
    "    bin_np, bin_pos = np.histogram(colisimul_plot[colisimul_plot.condition==x].Lb_fit,bins = np.arange(0,10,0.1))\n",
    "    minpos = bin_pos[np.where(bin_np>15)[0][0]]\n",
    "    maxpos = bin_pos[np.where(bin_np>15)[0][-1]]\n",
    "    coli.append(colisimul_plot[(colisimul_plot.condition==x)&(colisimul_plot.Lb_fit>minpos)\n",
    "                                  &(colisimul_plot.Lb_fit<maxpos)])\n",
    "    \n",
    "colisimul_plot_stats = pd.concat(coli)"
   ]
  },
  {
   "cell_type": "markdown",
   "metadata": {},
   "source": [
    "## Combine simulation and experimental data for Figure 5AB and export"
   ]
  },
  {
   "cell_type": "code",
   "execution_count": 6,
   "metadata": {},
   "outputs": [],
   "source": [
    "#concatenate exp and simul data\n",
    "all_data = pd.concat([colidata_plot_stats[['Lb_fit','Ld_fit','Li_fit','Ti',\n",
    "                                           'condition','datatype','simul_type','DeltaL']],\n",
    "           colisimul_plot_stats[['Lb_fit','Ld_fit','Li_fit','Ti',\n",
    "                                 'condition','datatype','simul_type','DeltaL']]])"
   ]
  },
  {
   "cell_type": "code",
   "execution_count": 7,
   "metadata": {},
   "outputs": [],
   "source": [
    "#rename conditions and data types\n",
    "all_data['datatype'] = all_data.datatype.apply(lambda x: type_names[x])\n",
    "all_data['condition'] = all_data.condition.apply(lambda x: plot_names[x])\n",
    "\n"
   ]
  },
  {
   "cell_type": "code",
   "execution_count": 100,
   "metadata": {},
   "outputs": [],
   "source": [
    "#export data\n",
    "all_data[['Lb_fit','DeltaL','Li_fit','datatype','condition']].to_csv(folder_prefix+'Data_export/Fig5_AB.csv', index = False)"
   ]
  },
  {
   "cell_type": "markdown",
   "metadata": {},
   "source": [
    "## Complete infos regarding number of origins for Figure 5D and export"
   ]
  },
  {
   "cell_type": "code",
   "execution_count": 8,
   "metadata": {},
   "outputs": [],
   "source": [
    "all_data['numori_born'] = all_data.Ti.apply(lambda x: 1 if x>=0 else 2)"
   ]
  },
  {
   "cell_type": "code",
   "execution_count": 9,
   "metadata": {},
   "outputs": [],
   "source": [
    "all_frames = []\n",
    "for c in range(3):\n",
    "    or_exp = all_data[(all_data.datatype == type_names[0])&((all_data.condition == plot_names[c]))].groupby('numori_born').size()\n",
    "    or_exp = or_exp/np.sum(or_exp)\n",
    "    or_simul = all_data[(all_data.datatype == type_names[1])&((all_data.condition == plot_names[c]))].groupby('numori_born').size()\n",
    "    or_simul = or_simul/np.sum(or_simul)\n",
    "    ori_frame = pd.DataFrame({'Simulations':or_simul,'Experiments':or_exp})\n",
    "    ori_frame = ori_frame.reset_index()\n",
    "    ori_frame['condition'] = plot_names[c]\n",
    "    all_frames.append(ori_frame)\n",
    "    \n",
    "origins = pd.melt(pd.concat(all_frames), value_vars=['Simulations','Experiments'],\n",
    "                  id_vars=['numori_born','condition'],var_name='data_type',value_name='fraction')\n",
    "origins['condition'] = origins.condition.astype('category')"
   ]
  },
  {
   "cell_type": "code",
   "execution_count": 103,
   "metadata": {},
   "outputs": [],
   "source": [
    "origins.to_csv(folder_prefix+'Data_export/Fig5_D.csv',index = False)"
   ]
  },
  {
   "cell_type": "markdown",
   "metadata": {},
   "source": [
    "## Define functions to calculate distribution parameters for Figure 5C"
   ]
  },
  {
   "cell_type": "code",
   "execution_count": 10,
   "metadata": {},
   "outputs": [],
   "source": [
    "def fit_normal(colidata, field, fit_range):\n",
    "    valbins, binmean = np.histogram(colidata[field].dropna(), bins=fit_range)\n",
    "    valbins = valbins/np.sum(valbins)*(binmean[1]-binmean[0])\n",
    "    bin_pos= np.array([0.5*(binmean[x]+binmean[x+1]) for x in range(len(binmean)-1)])\n",
    "\n",
    "    additional = (bin_pos, valbins)\n",
    "    res_fit = scipy.optimize.minimize(fun=gauss_single_fit, args=additional, \n",
    "                                                  x0=np.array([np.max(valbins),np.mean(colidata[field].dropna()),\n",
    "                                                               np.var(colidata[field].dropna())]),method='BFGS')\n",
    "    \n",
    "    return bin_pos, valbins, res_fit\n",
    "\n",
    "def fun_single_gauss(x, A0, x0, sigma):\n",
    "    return A0*np.exp(-((x-x0)**2)/(2*sigma**2))\n",
    "\n",
    "def gauss_single_fit(p, *args):\n",
    "    x,data = args[0], args[1]\n",
    "    nll = np.sum((fun_single_gauss(x,p[0],p[1],p[2])-data)**2)\n",
    "    return nll\n",
    "\n"
   ]
  },
  {
   "cell_type": "markdown",
   "metadata": {},
   "source": [
    "## Calculate mean and stdv for birth length and export for Figure 5C"
   ]
  },
  {
   "cell_type": "code",
   "execution_count": 11,
   "metadata": {},
   "outputs": [],
   "source": [
    "means=[]\n",
    "stdv = []\n",
    "means_s=[]\n",
    "stdv_s = []\n",
    "for i in range(3):\n",
    "    \n",
    "    data = all_data[(all_data.condition==plot_names[i])&(all_data.datatype==type_names[0])]\n",
    "    bin_pos_Lb, valbins_Lb, res_fit_Lb = fit_normal(data,'Lb_fit',np.arange(0,3,0.1))\n",
    "    means.append(res_fit_Lb.x[1])\n",
    "    stdv.append(res_fit_Lb.x[2]**1)\n",
    "    \n",
    "    data = all_data[(all_data.condition==plot_names[i])&(all_data.datatype==type_names[1])]\n",
    "    bin_pos_Lb, valbins_Lb, res_fit_Lb = fit_normal(data,'Lb_fit',np.arange(0,3,0.1))\n",
    "    means_s.append(res_fit_Lb.x[1])\n",
    "    stdv_s.append(res_fit_Lb.x[2]**1)\n",
    "    "
   ]
  },
  {
   "cell_type": "code",
   "execution_count": 12,
   "metadata": {},
   "outputs": [],
   "source": [
    "exp = pd.DataFrame({'means': means, 'standard': stdv, 'datatype': 'exp', \n",
    "                    'condition':[datasource[x]['condition'] for x in datasource]})\n",
    "simul = pd.DataFrame({'means': means_s, 'standard': stdv_s, 'datatype': 'simul', \n",
    "                    'condition':[datasource[x]['condition'] for x in datasource]})\n",
    "means_stdv = pd.concat([exp,simul])\n",
    "\n"
   ]
  },
  {
   "cell_type": "code",
   "execution_count": 122,
   "metadata": {},
   "outputs": [],
   "source": [
    "means_stdv.to_csv(folder_prefix+'Data_export/Fig5_C.csv',index=False)"
   ]
  }
 ],
 "metadata": {
  "kernelspec": {
   "display_name": "Python 3",
   "language": "python",
   "name": "python3"
  },
  "language_info": {
   "codemirror_mode": {
    "name": "ipython",
    "version": 3
   },
   "file_extension": ".py",
   "mimetype": "text/x-python",
   "name": "python",
   "nbconvert_exporter": "python",
   "pygments_lexer": "ipython3",
   "version": "3.7.3"
  }
 },
 "nbformat": 4,
 "nbformat_minor": 4
}
