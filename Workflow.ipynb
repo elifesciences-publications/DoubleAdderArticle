{
 "cells": [
  {
   "cell_type": "markdown",
   "metadata": {},
   "source": [
    "# Workflow"
   ]
  },
  {
   "cell_type": "markdown",
   "metadata": {},
   "source": [
    "# 1. Pre-processing"
   ]
  },
  {
   "cell_type": "markdown",
   "metadata": {},
   "source": [
    "Time-lapse images are registered, cropped and analysed with the MoMA software following the method described in Kaiser et al. 2018. The output of MoMA is a text file that contains segmentation information such as position of the cell in the channel, bounding box etc. All the data are located in the folder PreProcessed. \n",
    "\n",
    "In order to use further use the MoMA output files, in a first step, this information is parsed into a Pandas dataframe where each row corresponds to one cell. Some additional information is added to to the table, e.g. whether a cell cycle is complete or not. This parsing is done in the notebook [step1_processing](DataProcessing/step1_processing.ipynb).\n",
    "\n",
    "The result of this first step is already stored in ```DoubleAdder/PreProcessed/Experiment_name/step1/``` and does not have to be executed. To exectute this step, one needs to download the images and MoMA files from the [Zenodo repository](https://zenodo.org/record/3149097#.XY6Ypuf7RTY) and replace the existing PreProcessed folder with the downloaded one."
   ]
  },
  {
   "cell_type": "markdown",
   "metadata": {},
   "source": [
    "## 1.2. Analyzing FROS spots"
   ]
  },
  {
   "cell_type": "markdown",
   "metadata": {},
   "source": [
    "### Automatic\n",
    "\n",
    "The glycerol experiment is analyzed by detecting spots and tracking them automatically. This is achieve in the notebook [step2_automatic](DataProcessing/step2_automatic.ipynb).\n",
    "\n",
    "The output is saved in the location ```DoubleAdder/PreProcessed/Experiment_name/step2/``` into Pandas pickle files named automatic_time_mat_posXX_GLYY.pkl where XX is the field of view and YY the growth lane containing each a dataframe with all needed information. These data are also already available and don't have to be computed.\n",
    "\n",
    "### Manual\n",
    "\n",
    "For the manual analysis, complete cell cycles encompassing mother and daughter cells are shown to the user who can select the first point where origin splitting is appearing. This is done in [step2_manual](DataProcessing/step2_manual.ipynb).\n",
    "\n",
    "The output is saved in the location ```DoubleAdder/PreProcessed/Experiment_name/step2/```. Each growth lane is saved as a pickle file named manual_time_mat_posXX_GLYY.pkl where XX is the field of view and YY the growth lane."
   ]
  },
  {
   "cell_type": "markdown",
   "metadata": {},
   "source": [
    "## 1.3. Initiation parameters and data collection\n",
    "\n",
    "In this last step achieved in the notebook [data_aggregation](DataProcessing/data_aggregation.ipynb), the initiation length is calculated as a fitted parameter using the exponential growth parameters fitted for the growth curve. Also, the inter-initiation added length is calculated. The output is saved in the location ```DoubleAdder/PreProcessed/Experiment_name/step3/```. Each growth lane is saved as a pickle file named initlen_time_mat_posXX_GLYY.pkl where XX is the field of view and YY the growth lane.\n",
    "\n",
    "Finally the data for all growth lanes are combined into one large Pandas dataframe and saved in ```DoubleAdder/PreProcessed/Experiment_name/colidata.pkl```. "
   ]
  },
  {
   "cell_type": "markdown",
   "metadata": {},
   "source": [
    "# 2. Simulations\n",
    "\n",
    "## 2.1 Calculating parameters\n",
    "Various parameters are needed to run the stochastic cell cycle simulations (e.g. distribution of growth rates, adders etc.). All these parameters are recovered by fitting experimental distributions in the notebook [generate_simulation_params](Simulations/generate_simulation_params.ipynb).\n",
    "\n",
    "The parameters are saved for each condition as a pickle file in ```DoubleAdder/PreProcessed/Experiment_name/simul_params.pkl```. \n",
    "\n",
    "## 2.2 Running simulations\n",
    "\n",
    "The various models analyzed in the article are simulated in the notebook [model_simulations](Simulations/model_simulations.ipynb).\n",
    "\n",
    "Data are stored in the same format as the experimental data in a pickle file in the folder ```DoubleAdder/DataSimulations/```."
   ]
  },
  {
   "cell_type": "markdown",
   "metadata": {},
   "source": [
    "# 3. Figure plots"
   ]
  },
  {
   "cell_type": "markdown",
   "metadata": {},
   "source": [
    "## 3.1 Data preparation\n",
    "\n",
    "Some data used in the figures are prepared in [dataset_fig_1_2_3](GatherData/dataset_fig_1_2_3.ipynb) and [dataset_fig_5AB](GatherData/dataset_fig_5AB.ipynb). The corresponding data are exported to the folder Data_export.\n",
    "\n",
    "## 3.1 Figure notebooks\n",
    "\n",
    "The plots of Figures 1,2 and 3 [figure_1_2_3](Plotting/figure_1_2_3.ipynb). The plots of figure 5 and its supplementary plots are created in [figure_5](Plotting/figure_5.ipynb) and [figure_5_supmat](Plotting/figure_5_supmat.ipynb).\n",
    "\n",
    "All the decomposition plots of figures 6,7 and their supplementary figures are created in [figure_6_7](Plotting/figure_6_7.ipynb) and [figure_7B](Plotting/figure_7B.ipynb)."
   ]
  }
 ],
 "metadata": {
  "kernelspec": {
   "display_name": "Python 3",
   "language": "python",
   "name": "python3"
  },
  "language_info": {
   "codemirror_mode": {
    "name": "ipython",
    "version": 3
   },
   "file_extension": ".py",
   "mimetype": "text/x-python",
   "name": "python",
   "nbconvert_exporter": "python",
   "pygments_lexer": "ipython3",
   "version": "3.7.3"
  }
 },
 "nbformat": 4,
 "nbformat_minor": 4
}
