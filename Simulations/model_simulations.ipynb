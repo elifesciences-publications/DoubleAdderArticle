{
 "cells": [
  {
   "cell_type": "markdown",
   "metadata": {},
   "source": [
    "# Generating simulation data"
   ]
  },
  {
   "cell_type": "markdown",
   "metadata": {},
   "source": [
    "## Load packages"
   ]
  },
  {
   "cell_type": "code",
   "execution_count": 2,
   "metadata": {},
   "outputs": [],
   "source": [
    "folder_prefix = '../'"
   ]
  },
  {
   "cell_type": "code",
   "execution_count": 4,
   "metadata": {},
   "outputs": [],
   "source": [
    "import os, re, copy\n",
    "import numpy as np\n",
    "import pandas as pd\n",
    "import pickle\n",
    "import matplotlib.pyplot as plt\n",
    "import scipy.optimize\n",
    "import scipy.stats\n",
    "\n",
    "from colicycle import coli_simulation"
   ]
  },
  {
   "cell_type": "markdown",
   "metadata": {},
   "source": [
    "## Simulate double-adder model"
   ]
  },
  {
   "cell_type": "code",
   "execution_count": 4,
   "metadata": {},
   "outputs": [],
   "source": [
    "numcells = 5\n",
    "tot_time = 2000\n",
    "\n",
    "paramfiles = [folder_prefix+'PreProcessed/20180706_GW296_glycerol37_1_MMStack/simul_params.pkl',\n",
    "              folder_prefix+'PreProcessed/20180711_GW296_glucose37_1_MMStack//simul_params.pkl',\n",
    "              folder_prefix+'PreProcessed/20180709_GW296_glucose8aa37_1_MMStack/simul_params.pkl',\n",
    "              folder_prefix+'PreProcessed/20170327_GW339_temp/simul_params.pkl']\n",
    "\n",
    "name = ['glycerol','glucose','glucose8aa','glycerolauto']\n",
    "\n",
    "for ind, paramfile in enumerate(paramfiles):\n",
    "    with open(paramfile, 'rb') as f:\n",
    "        exp_params = pickle.load(f)\n",
    "        \n",
    "    params = {'tau_logn_mu' : exp_params['fit_logtau'][1], 'tau_logn_sigma' : exp_params['fit_logtau'][2],\n",
    "      'tau_corr': exp_params['tau_corr'][0],\n",
    "     'DLi_mu': exp_params['fit_DLi'][1],'DLi_sigma': exp_params['fit_DLi'][2],\n",
    "      'DLdLi_logn_mu': exp_params['fit_logDLdLi'][1],'DLdLi_logn_sigma': exp_params['fit_logDLdLi'][2],\n",
    "     'Lb_logn_mu': exp_params['fit_logLb'][1],'Lb_logn_sigma':exp_params['fit_logLb'][2],\n",
    "              'dL_mu': exp_params['fit_dL'][1],'dL_sigma': exp_params['fit_dL'][2],\n",
    "      'div_ratio': exp_params['divR_std']}\n",
    "        \n",
    "    #standard case: inter-initiation adder + initiation-division adder. The noise on both adders is simply \n",
    "    #additive i.e. DeltaV_real = DelataV_ideal + noise\n",
    "\n",
    "    name2 = name[ind]+'_standard'\n",
    "    \n",
    "    simul = coli_simulation.simul_doubleadder(numcells, run_time=tot_time, params=params,\n",
    "                                                       name = name2)\n",
    "    simul_pd_exp = coli_simulation.standardise_dataframe(simul)\n",
    "    simul_pd_exp.to_pickle(folder_prefix+'/DataSimulations/'+name2+'.pkl')\n",
    "    "
   ]
  },
  {
   "cell_type": "markdown",
   "metadata": {},
   "source": [
    "## Simulate double-adder model with reduced variance in $d\\Lambda_{ib}$"
   ]
  },
  {
   "cell_type": "code",
   "execution_count": 7,
   "metadata": {},
   "outputs": [],
   "source": [
    "numcells = 50\n",
    "tot_time = 2000\n",
    "\n",
    "paramfiles = [folder_prefix+'PreProcessed/20180706_GW296_glycerol37_1_MMStack/simul_params.pkl',\n",
    "              folder_prefix+'PreProcessed/20180711_GW296_glucose37_1_MMStack//simul_params.pkl',\n",
    "              folder_prefix+'PreProcessed/20180709_GW296_glucose8aa37_1_MMStack/simul_params.pkl',\n",
    "              folder_prefix+'PreProcessed/20170327_GW339_temp/simul_params.pkl']\n",
    "\n",
    "name = ['glycerol','glucose','glucose8aa','glycerolauto']\n",
    "\n",
    "for ind, paramfile in enumerate(paramfiles):\n",
    "    with open(paramfile, 'rb') as f:\n",
    "        exp_params = pickle.load(f)\n",
    "        \n",
    "    params = {'tau_logn_mu' : exp_params['fit_logtau'][1], 'tau_logn_sigma' : exp_params['fit_logtau'][2],\n",
    "      'tau_corr': exp_params['tau_corr'][0],\n",
    "     'DLi_mu': exp_params['fit_DLi'][1],'DLi_sigma': exp_params['fit_DLi'][2],\n",
    "      'DLdLi_logn_mu': exp_params['fit_logDLdLi'][1],'DLdLi_logn_sigma': exp_params['fit_logDLdLi'][2],\n",
    "     'Lb_logn_mu': exp_params['fit_logLb'][1],'Lb_logn_sigma':exp_params['fit_logLb'][2],\n",
    "              'dL_mu': exp_params['fit_dL'][1],'dL_sigma': exp_params['fit_dL'][2],\n",
    "      'div_ratio': exp_params['divR_std']}\n",
    "    \n",
    "    params['DLdLi_logn_sigma']=0.7*params['DLdLi_logn_sigma']\n",
    "    name2 = name[ind]+'_reduc_var'\n",
    "    \n",
    "    simul = coli_simulation.simul_doubleadder(numcells, run_time=tot_time, params=params,\n",
    "                                                       name = name2)\n",
    "    simul_pd_exp = coli_simulation.standardise_dataframe(simul)\n",
    "    simul_pd_exp.to_pickle(folder_prefix+'/DataSimulations/'+name2+'.pkl')\n",
    "    "
   ]
  },
  {
   "cell_type": "markdown",
   "metadata": {},
   "source": [
    "## Simulate a model with inter-initiation adder and classic division adder (uncoupled)"
   ]
  },
  {
   "cell_type": "code",
   "execution_count": 4,
   "metadata": {},
   "outputs": [],
   "source": [
    "numcells = 50\n",
    "tot_time = 2000\n",
    "\n",
    "paramfiles = [folder_prefix+'PreProcessed/20180706_GW296_glycerol37_1_MMStack/simul_params.pkl',\n",
    "              folder_prefix+'PreProcessed/20180711_GW296_glucose37_1_MMStack//simul_params.pkl',\n",
    "              folder_prefix+'PreProcessed/20180709_GW296_glucose8aa37_1_MMStack/simul_params.pkl',\n",
    "              folder_prefix+'PreProcessed/20170327_GW339_temp/simul_params.pkl']\n",
    "\n",
    "name = ['glycerol','glucose','glucose8aa','glycerolauto']\n",
    "\n",
    "for ind, paramfile in enumerate(paramfiles):\n",
    "    with open(paramfile, 'rb') as f:\n",
    "        exp_params = pickle.load(f)\n",
    "        \n",
    "    params = {'tau_logn_mu' : exp_params['fit_logtau'][1], 'tau_logn_sigma' : exp_params['fit_logtau'][2],\n",
    "      'tau_corr': exp_params['tau_corr'][0],\n",
    "     'DLi_mu': exp_params['fit_DLi'][1],'DLi_sigma': exp_params['fit_DLi'][2],\n",
    "      'DLdLi_logn_mu': exp_params['fit_logDLdLi'][1],'DLdLi_logn_sigma': exp_params['fit_logDLdLi'][2],\n",
    "     'Lb_logn_mu': exp_params['fit_logLb'][1],'Lb_logn_sigma':exp_params['fit_logLb'][2],\n",
    "              'dL_mu': exp_params['fit_dL'][1],'dL_sigma': exp_params['fit_dL'][2],\n",
    "      'div_ratio': exp_params['divR_std']}\n",
    "    \n",
    "    name2 = name[ind]+'_classicadder'\n",
    "    \n",
    "    simul = coli_simulation.simul_growth_dinter_classicadder(numcells, run_time=tot_time, params=params,\n",
    "                                                       name = name2)\n",
    "    simul_pd_exp = coli_simulation.standardise_dataframe(simul)\n",
    "    simul_pd_exp.to_pickle(folder_prefix+'/DataSimulations/'+name2+'.pkl')\n",
    "    \n",
    "   "
   ]
  },
  {
   "cell_type": "markdown",
   "metadata": {},
   "source": [
    "## Simulate a model with inter-initiation adder and initiation to division timer (Ho)"
   ]
  },
  {
   "cell_type": "code",
   "execution_count": 5,
   "metadata": {},
   "outputs": [],
   "source": [
    "numcells = 50\n",
    "tot_time = 2000\n",
    "\n",
    "paramfiles = [folder_prefix+'PreProcessed/20170327_GW339_temp/simul_params.pkl']\n",
    "\n",
    "name = ['glycerolauto']\n",
    "\n",
    "for ind, paramfile in enumerate(paramfiles):\n",
    "    with open(paramfile, 'rb') as f:\n",
    "        exp_params = pickle.load(f)\n",
    "        \n",
    "    params = {'tau_logn_mu' : exp_params['fit_logtau'][1], 'tau_logn_sigma' : exp_params['fit_logtau'][2],\n",
    "      'tau_corr': exp_params['tau_corr'][0],\n",
    "     'DLi_mu': exp_params['fit_DLi'][1],'DLi_sigma': exp_params['fit_DLi'][2],\n",
    "      'DLdLi_logn_mu': exp_params['fit_logDLdLi'][1],'DLdLi_logn_sigma': exp_params['fit_logDLdLi'][2],\n",
    "     'Lb_logn_mu': exp_params['fit_logLb'][1],'Lb_logn_sigma':exp_params['fit_logLb'][2],\n",
    "              'dL_mu': exp_params['fit_dL'][1],'dL_sigma': exp_params['fit_dL'][2],\n",
    "      'div_ratio': exp_params['divR_std']}\n",
    "        \n",
    "    name2 = name[ind]+'_hoamir'\n",
    "    \n",
    "    simul = coli_simulation.simul_growth_ho_amir(numcells, run_time=tot_time, params=params,\n",
    "                                                       name = name2)\n",
    "    simul_pd_exp = coli_simulation.standardise_dataframe(simul)\n",
    "    simul_pd_exp.to_pickle(folder_prefix+'/DataSimulations/'+name2+'.pkl')"
   ]
  },
  {
   "cell_type": "code",
   "execution_count": null,
   "metadata": {},
   "outputs": [],
   "source": []
  }
 ],
 "metadata": {
  "kernelspec": {
   "display_name": "Python 3",
   "language": "python",
   "name": "python3"
  },
  "language_info": {
   "codemirror_mode": {
    "name": "ipython",
    "version": 3
   },
   "file_extension": ".py",
   "mimetype": "text/x-python",
   "name": "python",
   "nbconvert_exporter": "python",
   "pygments_lexer": "ipython3",
   "version": "3.7.3"
  }
 },
 "nbformat": 4,
 "nbformat_minor": 4
}
